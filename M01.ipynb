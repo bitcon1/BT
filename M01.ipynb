{
  "nbformat": 4,
  "nbformat_minor": 0,
  "metadata": {
    "colab": {
      "provenance": [],
      "authorship_tag": "ABX9TyPFG82Kcd3grSc/JaTK6A9H",
      "include_colab_link": true
    },
    "kernelspec": {
      "name": "python3",
      "display_name": "Python 3"
    },
    "language_info": {
      "name": "python"
    }
  },
  "cells": [
    {
      "cell_type": "markdown",
      "metadata": {
        "id": "view-in-github",
        "colab_type": "text"
      },
      "source": [
        "<a href=\"https://colab.research.google.com/github/bitcon1/BT/blob/master/M01.ipynb\" target=\"_parent\"><img src=\"https://colab.research.google.com/assets/colab-badge.svg\" alt=\"Open In Colab\"/></a>"
      ]
    },
    {
      "cell_type": "code",
      "execution_count": null,
      "metadata": {
        "id": "qjhzVlWkS49C"
      },
      "outputs": [],
      "source": [
        "import numpy as np\n",
        "import matplotlib.pyplot as plt\n",
        "\n",
        "# Define the range of ne and KT e\n",
        "ne_range = np.logspace(6, 28, num=1000)\n",
        "KT_e_range = np.logspace(-2, 5, num=1000)\n",
        "\n",
        "# Define the values of λD and ND\n",
        "lambdaD_values = np.logspace(-8, 0, num=5)\n",
        "ND_values = np.logspace(3, 9, num=3)\n",
        "\n",
        "# Create a log-log plot\n",
        "plt.figure(figsize=(10, 6))\n",
        "plt.xlabel('KT e (eV)')\n",
        "plt.ylabel('ne (m^(-3))')\n",
        "plt.xscale('log')\n",
        "plt.yscale('log')\n",
        "\n",
        "# Plot lines of constant λD (solid lines)\n",
        "for lambdaD in lambdaD_values:\n",
        "    ne_lambdaD = ND_values * np.exp(-KT_e_range / lambdaD)\n",
        "    plt.plot(KT_e_range, ne_lambdaD, label=f'λD = {lambdaD:.2e}', linestyle='-')\n",
        "\n",
        "# Plot lines of constant ND (dashed lines)\n",
        "for ND in ND_values:\n",
        "    ne_ND = ND * np.exp(-KT_e_range / lambdaD_values)\n",
        "    plt.plot(KT_e_range, ne_ND, linestyle='--', color='gray')\n",
        "\n",
        "# Place the specified points on the graph\n",
        "points = {\n",
        "    'Fusion Reactor': (1e20, 30000),\n",
        "    'Fusion Experiments (Torus)': (1e19, 100),\n",
        "    'Fusion Experiments (Pinch)': (1e23, 1000),\n",
        "    'Ionosphere': (1e11, 0.05),\n",
        "    'Radiofrequency Plasma': (1e17, 1.5),\n",
        "    'Flame': (1e14, 0.1),\n",
        "    'Laser Plasma': (1e25, 100),\n",
        "    'Interplanetary Space': (1e6, 0.01)\n",
        "}\n",
        "\n",
        "for label, (ne, KT_e) in points.items():\n",
        "    plt.scatter(KT_e, ne, label=label)\n",
        "\n",
        "# Add a legend\n",
        "plt.legend()\n",
        "\n",
        "# Show the plot\n",
        "plt.grid(True)\n",
        "plt.show()"
      ]
    }
  ]
}